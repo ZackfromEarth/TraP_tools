{
 "cells": [
  {
   "cell_type": "markdown",
   "metadata": {},
   "source": [
    "# FilterVariables.ipyn\n",
    "\n",
    "#### A code to plot variability parameters for all sources in a given dataset and to select the candidate variables using input sigma thresholds."
   ]
  },
  {
   "cell_type": "markdown",
   "metadata": {},
   "source": [
    "#### Import all the dependencies and generic setup"
   ]
  },
  {
   "cell_type": "code",
   "execution_count": 1,
   "metadata": {},
   "outputs": [],
   "source": [
    "import scipy as sp\n",
    "import numpy as np\n",
    "import pandas as pd\n",
    "import sqlalchemy\n",
    "from sqlalchemy import *\n",
    "from sqlalchemy.orm import relationship\n",
    "import tkp.db\n",
    "import logging\n",
    "logging.basicConfig(level=logging.INFO)\n",
    "query_loglevel = logging.WARNING  # Set to INFO to see queries, otherwise WARNING\n",
    "import sys\n",
    "sys.path.append('../')\n",
    "from dblogin import * # This file contains all the variables required to connect to the database\n",
    "from databaseTools import dbtools\n",
    "from tools import tools\n",
    "# from plotting import plot_varib_params as pltvp\n",
    "%matplotlib inline\n",
    "import matplotlib\n",
    "import matplotlib.pyplot as plt\n",
    "import pylab\n",
    "pylab.rcParams['legend.loc'] = 'best'\n",
    "from matplotlib.ticker import NullFormatter\n",
    "from matplotlib.font_manager import FontProperties\n"
   ]
  },
  {
   "cell_type": "markdown",
   "metadata": {},
   "source": [
    "#### The input database, dataset and thresholds"
   ]
  },
  {
   "cell_type": "code",
   "execution_count": 2,
   "metadata": {},
   "outputs": [],
   "source": [
    "dataset_id = 9\n",
    "database = 'AR_R4'\n",
    "sigma1 = 2 # Threshold on the reduced weighted chi^2\n",
    "sigma2 = 2 # Threshold on the variability parameter\n",
    "websiteURL = 'http://banana.transientskp.org/r4/vlo_'+database+'/runningcatalog/'"
   ]
  },
  {
   "cell_type": "code",
   "execution_count": 3,
   "metadata": {},
   "outputs": [],
   "source": [
    "engine = 'postgresql'\n",
    "host = 'vlo.science.uva.nl'\n",
    "port = 5432\n",
    "user = 'kmeulen'\n",
    "password = 'kLu2oepRouv2UfoUPhoU'\n",
    "database='KmeulenTrap4P23'\n",
    "dataset_id = 4\n",
    "tables = 'extractedsource'"
   ]
  },
  {
   "cell_type": "markdown",
   "metadata": {},
   "source": [
    "#### Connect to the database and run the queries"
   ]
  },
  {
   "cell_type": "code",
   "execution_count": 4,
   "metadata": {
    "scrolled": true
   },
   "outputs": [
    {
     "name": "stderr",
     "output_type": "stream",
     "text": [
      "INFO:tkp.db.database:Database config: postgresql://kmeulen@vlo.science.uva.nl:5432/KmeulenTrap4P23\n",
      "/home/kmeulen/virtualenv/local/lib/python2.7/site-packages/psycopg2/__init__.py:144: UserWarning: The psycopg2 wheel package will be renamed from release 2.8; in order to keep installing from binary please use \"pip install psycopg2-binary\" instead. For details see: <http://initd.org/psycopg/docs/install.html#binary-install-from-pypi>.\n",
      "  \"\"\")\n",
      "INFO:tkp.db.database:connecting to database...\n",
      "INFO:tkp.db.database:connected to: postgresql://kmeulen@vlo.science.uva.nl:5432/KmeulenTrap4P23\n"
     ]
    },
    {
     "name": "stdout",
     "output_type": "stream",
     "text": [
      "connected!\n"
     ]
    }
   ],
   "source": [
    "session = dbtools.access(engine,host,port,user,password,database)\n",
    "VarParams = dbtools.GetPandaExtracted(session,dataset_id,table=s)"
   ]
  },
  {
   "cell_type": "markdown",
   "metadata": {},
   "source": [
    "#### Contents of VarParams\n",
    "\n",
    "The VarParams array contains all the information for the unique running catalogue sources for the required dataset. Each running catalogue source has a row in this array.\n",
    "\n",
    "\n",
    "Runningcatalog table contains the parameters (see http://tkp.readthedocs.io/en/r3.0/devref/database/schema.html#runningcatalog), but especially:\n",
    " * id\n",
    " * dataset_id\n",
    " * wm_ra (in degrees)\n",
    " * wm_decl (in degrees)\n",
    " * avg_ra_err (in degrees)\n",
    " * avg_decl_err (in degrees)\n",
    "\n",
    "\n",
    "Varmetric table contains (see http://tkp.readthedocs.io/en/r3.0/devref/database/schema.html#varmetric), but especially:\n",
    " * Varmetric.runcat (link to Runningcatalog table)\n",
    " * v_int (the variability parameter for the last datapoint in the lightcurve)\n",
    " * eta_int (the reduced weighted chi^2 for the last datapoint in the lightcurve)\n",
    " * band (a link back to Frequencyband table)\n",
    " * newsource  (a link back to newsource table)\n",
    " * sigma_rms_max (SNR max for new sources)\n",
    " * sigma_rms_min (SNR min for new sources)\n",
    " * lightcurve_max (maximum flux in the lightcurve)\n",
    " * lightcurve_avg (mean flux in the lightcurve)\n",
    " * lightcurve_median (median flux in the lightcurve)\n",
    "\n",
    "#### Example queries:"
   ]
  },
  {
   "cell_type": "code",
   "execution_count": 5,
   "metadata": {
    "scrolled": false
   },
   "outputs": [
    {
     "data": {
      "text/html": [
       "<style  type=\"text/css\" >\n",
       "</style>  \n",
       "<table id=\"T_1066ad7e_89a3_11e8_87a7_002590f1d584\" > \n",
       "<thead>    <tr> \n",
       "        <th class=\"blank level0\" ></th> \n",
       "        <th class=\"col_heading level0 col0\" >xtrsrc</th> \n",
       "        <th class=\"col_heading level0 col1\" >dataset</th> \n",
       "        <th class=\"col_heading level0 col2\" >runcat</th> \n",
       "        <th class=\"col_heading level0 col3\" >datapoints</th> \n",
       "        <th class=\"col_heading level0 col4\" >zone</th> \n",
       "        <th class=\"col_heading level0 col5\" >wm_ra</th> \n",
       "        <th class=\"col_heading level0 col6\" >wm_decl</th> \n",
       "        <th class=\"col_heading level0 col7\" >wm_uncertainty_ew</th> \n",
       "        <th class=\"col_heading level0 col8\" >wm_uncertainty_ns</th> \n",
       "        <th class=\"col_heading level0 col9\" >avg_ra_err</th> \n",
       "        <th class=\"col_heading level0 col10\" >avg_decl_err</th> \n",
       "        <th class=\"col_heading level0 col11\" >avg_wra</th> \n",
       "        <th class=\"col_heading level0 col12\" >avg_wdecl</th> \n",
       "        <th class=\"col_heading level0 col13\" >avg_weight_ra</th> \n",
       "        <th class=\"col_heading level0 col14\" >avg_weight_decl</th> \n",
       "        <th class=\"col_heading level0 col15\" >x</th> \n",
       "        <th class=\"col_heading level0 col16\" >y</th> \n",
       "        <th class=\"col_heading level0 col17\" >z</th> \n",
       "        <th class=\"col_heading level0 col18\" >inactive</th> \n",
       "        <th class=\"col_heading level0 col19\" >mon_src</th> \n",
       "        <th class=\"col_heading level0 col20\" >forcedfits_count</th> \n",
       "        <th class=\"col_heading level0 col21\" >previous_limits_image</th> \n",
       "        <th class=\"col_heading level0 col22\" >newsource</th> \n",
       "        <th class=\"col_heading level0 col23\" >newsource_type</th> \n",
       "    </tr></thead> \n",
       "<tbody>    <tr> \n",
       "        <th id=\"T_1066ad7e_89a3_11e8_87a7_002590f1d584level0_row0\" class=\"row_heading level0 row0\" >0</th> \n",
       "        <td id=\"T_1066ad7e_89a3_11e8_87a7_002590f1d584row0_col0\" class=\"data row0 col0\" >1690</td> \n",
       "        <td id=\"T_1066ad7e_89a3_11e8_87a7_002590f1d584row0_col1\" class=\"data row0 col1\" >4</td> \n",
       "        <td id=\"T_1066ad7e_89a3_11e8_87a7_002590f1d584row0_col2\" class=\"data row0 col2\" >1861</td> \n",
       "        <td id=\"T_1066ad7e_89a3_11e8_87a7_002590f1d584row0_col3\" class=\"data row0 col3\" >1</td> \n",
       "        <td id=\"T_1066ad7e_89a3_11e8_87a7_002590f1d584row0_col4\" class=\"data row0 col4\" >46</td> \n",
       "        <td id=\"T_1066ad7e_89a3_11e8_87a7_002590f1d584row0_col5\" class=\"data row0 col5\" >-170.317</td> \n",
       "        <td id=\"T_1066ad7e_89a3_11e8_87a7_002590f1d584row0_col6\" class=\"data row0 col6\" >46.745</td> \n",
       "        <td id=\"T_1066ad7e_89a3_11e8_87a7_002590f1d584row0_col7\" class=\"data row0 col7\" >0.00835067</td> \n",
       "        <td id=\"T_1066ad7e_89a3_11e8_87a7_002590f1d584row0_col8\" class=\"data row0 col8\" >0.00835067</td> \n",
       "        <td id=\"T_1066ad7e_89a3_11e8_87a7_002590f1d584row0_col9\" class=\"data row0 col9\" >0.0121792</td> \n",
       "        <td id=\"T_1066ad7e_89a3_11e8_87a7_002590f1d584row0_col10\" class=\"data row0 col10\" >0.00833816</td> \n",
       "        <td id=\"T_1066ad7e_89a3_11e8_87a7_002590f1d584row0_col11\" class=\"data row0 col11\" >-2.4424e+06</td> \n",
       "        <td id=\"T_1066ad7e_89a3_11e8_87a7_002590f1d584row0_col12\" class=\"data row0 col12\" >670336</td> \n",
       "        <td id=\"T_1066ad7e_89a3_11e8_87a7_002590f1d584row0_col13\" class=\"data row0 col13\" >14340.3</td> \n",
       "        <td id=\"T_1066ad7e_89a3_11e8_87a7_002590f1d584row0_col14\" class=\"data row0 col14\" >14340.3</td> \n",
       "        <td id=\"T_1066ad7e_89a3_11e8_87a7_002590f1d584row0_col15\" class=\"data row0 col15\" >-0.675485</td> \n",
       "        <td id=\"T_1066ad7e_89a3_11e8_87a7_002590f1d584row0_col16\" class=\"data row0 col16\" >-0.115252</td> \n",
       "        <td id=\"T_1066ad7e_89a3_11e8_87a7_002590f1d584row0_col17\" class=\"data row0 col17\" >0.728311</td> \n",
       "        <td id=\"T_1066ad7e_89a3_11e8_87a7_002590f1d584row0_col18\" class=\"data row0 col18\" >False</td> \n",
       "        <td id=\"T_1066ad7e_89a3_11e8_87a7_002590f1d584row0_col19\" class=\"data row0 col19\" >False</td> \n",
       "        <td id=\"T_1066ad7e_89a3_11e8_87a7_002590f1d584row0_col20\" class=\"data row0 col20\" >2</td> \n",
       "        <td id=\"T_1066ad7e_89a3_11e8_87a7_002590f1d584row0_col21\" class=\"data row0 col21\" >7</td> \n",
       "        <td id=\"T_1066ad7e_89a3_11e8_87a7_002590f1d584row0_col22\" class=\"data row0 col22\" >30</td> \n",
       "        <td id=\"T_1066ad7e_89a3_11e8_87a7_002590f1d584row0_col23\" class=\"data row0 col23\" >0</td> \n",
       "    </tr>    <tr> \n",
       "        <th id=\"T_1066ad7e_89a3_11e8_87a7_002590f1d584level0_row1\" class=\"row_heading level0 row1\" >1</th> \n",
       "        <td id=\"T_1066ad7e_89a3_11e8_87a7_002590f1d584row1_col0\" class=\"data row1 col0\" >1695</td> \n",
       "        <td id=\"T_1066ad7e_89a3_11e8_87a7_002590f1d584row1_col1\" class=\"data row1 col1\" >4</td> \n",
       "        <td id=\"T_1066ad7e_89a3_11e8_87a7_002590f1d584row1_col2\" class=\"data row1 col2\" >1860</td> \n",
       "        <td id=\"T_1066ad7e_89a3_11e8_87a7_002590f1d584row1_col3\" class=\"data row1 col3\" >1</td> \n",
       "        <td id=\"T_1066ad7e_89a3_11e8_87a7_002590f1d584row1_col4\" class=\"data row1 col4\" >48</td> \n",
       "        <td id=\"T_1066ad7e_89a3_11e8_87a7_002590f1d584row1_col5\" class=\"data row1 col5\" >-170.21</td> \n",
       "        <td id=\"T_1066ad7e_89a3_11e8_87a7_002590f1d584row1_col6\" class=\"data row1 col6\" >48.5833</td> \n",
       "        <td id=\"T_1066ad7e_89a3_11e8_87a7_002590f1d584row1_col7\" class=\"data row1 col7\" >0.00835078</td> \n",
       "        <td id=\"T_1066ad7e_89a3_11e8_87a7_002590f1d584row1_col8\" class=\"data row1 col8\" >0.00835078</td> \n",
       "        <td id=\"T_1066ad7e_89a3_11e8_87a7_002590f1d584row1_col9\" class=\"data row1 col9\" >0.012616</td> \n",
       "        <td id=\"T_1066ad7e_89a3_11e8_87a7_002590f1d584row1_col10\" class=\"data row1 col10\" >0.00833819</td> \n",
       "        <td id=\"T_1066ad7e_89a3_11e8_87a7_002590f1d584row1_col11\" class=\"data row1 col11\" >-2.44079e+06</td> \n",
       "        <td id=\"T_1066ad7e_89a3_11e8_87a7_002590f1d584row1_col12\" class=\"data row1 col12\" >696680</td> \n",
       "        <td id=\"T_1066ad7e_89a3_11e8_87a7_002590f1d584row1_col13\" class=\"data row1 col13\" >14339.9</td> \n",
       "        <td id=\"T_1066ad7e_89a3_11e8_87a7_002590f1d584row1_col14\" class=\"data row1 col14\" >14339.9</td> \n",
       "        <td id=\"T_1066ad7e_89a3_11e8_87a7_002590f1d584row1_col15\" class=\"data row1 col15\" >-0.651896</td> \n",
       "        <td id=\"T_1066ad7e_89a3_11e8_87a7_002590f1d584row1_col16\" class=\"data row1 col16\" >-0.11249</td> \n",
       "        <td id=\"T_1066ad7e_89a3_11e8_87a7_002590f1d584row1_col17\" class=\"data row1 col17\" >0.749918</td> \n",
       "        <td id=\"T_1066ad7e_89a3_11e8_87a7_002590f1d584row1_col18\" class=\"data row1 col18\" >False</td> \n",
       "        <td id=\"T_1066ad7e_89a3_11e8_87a7_002590f1d584row1_col19\" class=\"data row1 col19\" >False</td> \n",
       "        <td id=\"T_1066ad7e_89a3_11e8_87a7_002590f1d584row1_col20\" class=\"data row1 col20\" >2</td> \n",
       "        <td id=\"T_1066ad7e_89a3_11e8_87a7_002590f1d584row1_col21\" class=\"data row1 col21\" >7</td> \n",
       "        <td id=\"T_1066ad7e_89a3_11e8_87a7_002590f1d584row1_col22\" class=\"data row1 col22\" >31</td> \n",
       "        <td id=\"T_1066ad7e_89a3_11e8_87a7_002590f1d584row1_col23\" class=\"data row1 col23\" >0</td> \n",
       "    </tr>    <tr> \n",
       "        <th id=\"T_1066ad7e_89a3_11e8_87a7_002590f1d584level0_row2\" class=\"row_heading level0 row2\" >2</th> \n",
       "        <td id=\"T_1066ad7e_89a3_11e8_87a7_002590f1d584row2_col0\" class=\"data row2 col0\" >1703</td> \n",
       "        <td id=\"T_1066ad7e_89a3_11e8_87a7_002590f1d584row2_col1\" class=\"data row2 col1\" >4</td> \n",
       "        <td id=\"T_1066ad7e_89a3_11e8_87a7_002590f1d584row2_col2\" class=\"data row2 col2\" >1859</td> \n",
       "        <td id=\"T_1066ad7e_89a3_11e8_87a7_002590f1d584row2_col3\" class=\"data row2 col3\" >1</td> \n",
       "        <td id=\"T_1066ad7e_89a3_11e8_87a7_002590f1d584row2_col4\" class=\"data row2 col4\" >47</td> \n",
       "        <td id=\"T_1066ad7e_89a3_11e8_87a7_002590f1d584row2_col5\" class=\"data row2 col5\" >-170.368</td> \n",
       "        <td id=\"T_1066ad7e_89a3_11e8_87a7_002590f1d584row2_col6\" class=\"data row2 col6\" >47.9822</td> \n",
       "        <td id=\"T_1066ad7e_89a3_11e8_87a7_002590f1d584row2_col7\" class=\"data row2 col7\" >0.00834756</td> \n",
       "        <td id=\"T_1066ad7e_89a3_11e8_87a7_002590f1d584row2_col8\" class=\"data row2 col8\" >0.00834756</td> \n",
       "        <td id=\"T_1066ad7e_89a3_11e8_87a7_002590f1d584row2_col9\" class=\"data row2 col9\" >0.0124649</td> \n",
       "        <td id=\"T_1066ad7e_89a3_11e8_87a7_002590f1d584row2_col10\" class=\"data row2 col10\" >0.00833729</td> \n",
       "        <td id=\"T_1066ad7e_89a3_11e8_87a7_002590f1d584row2_col11\" class=\"data row2 col11\" >-2.44494e+06</td> \n",
       "        <td id=\"T_1066ad7e_89a3_11e8_87a7_002590f1d584row2_col12\" class=\"data row2 col12\" >688592</td> \n",
       "        <td id=\"T_1066ad7e_89a3_11e8_87a7_002590f1d584row2_col13\" class=\"data row2 col13\" >14351</td> \n",
       "        <td id=\"T_1066ad7e_89a3_11e8_87a7_002590f1d584row2_col14\" class=\"data row2 col14\" >14351</td> \n",
       "        <td id=\"T_1066ad7e_89a3_11e8_87a7_002590f1d584row2_col15\" class=\"data row2 col15\" >-0.659924</td> \n",
       "        <td id=\"T_1066ad7e_89a3_11e8_87a7_002590f1d584row2_col16\" class=\"data row2 col16\" >-0.112003</td> \n",
       "        <td id=\"T_1066ad7e_89a3_11e8_87a7_002590f1d584row2_col17\" class=\"data row2 col17\" >0.742937</td> \n",
       "        <td id=\"T_1066ad7e_89a3_11e8_87a7_002590f1d584row2_col18\" class=\"data row2 col18\" >False</td> \n",
       "        <td id=\"T_1066ad7e_89a3_11e8_87a7_002590f1d584row2_col19\" class=\"data row2 col19\" >False</td> \n",
       "        <td id=\"T_1066ad7e_89a3_11e8_87a7_002590f1d584row2_col20\" class=\"data row2 col20\" >2</td> \n",
       "        <td id=\"T_1066ad7e_89a3_11e8_87a7_002590f1d584row2_col21\" class=\"data row2 col21\" >7</td> \n",
       "        <td id=\"T_1066ad7e_89a3_11e8_87a7_002590f1d584row2_col22\" class=\"data row2 col22\" >32</td> \n",
       "        <td id=\"T_1066ad7e_89a3_11e8_87a7_002590f1d584row2_col23\" class=\"data row2 col23\" >0</td> \n",
       "    </tr>    <tr> \n",
       "        <th id=\"T_1066ad7e_89a3_11e8_87a7_002590f1d584level0_row3\" class=\"row_heading level0 row3\" >3</th> \n",
       "        <td id=\"T_1066ad7e_89a3_11e8_87a7_002590f1d584row3_col0\" class=\"data row3 col0\" >1719</td> \n",
       "        <td id=\"T_1066ad7e_89a3_11e8_87a7_002590f1d584row3_col1\" class=\"data row3 col1\" >4</td> \n",
       "        <td id=\"T_1066ad7e_89a3_11e8_87a7_002590f1d584row3_col2\" class=\"data row3 col2\" >1856</td> \n",
       "        <td id=\"T_1066ad7e_89a3_11e8_87a7_002590f1d584row3_col3\" class=\"data row3 col3\" >1</td> \n",
       "        <td id=\"T_1066ad7e_89a3_11e8_87a7_002590f1d584row3_col4\" class=\"data row3 col4\" >47</td> \n",
       "        <td id=\"T_1066ad7e_89a3_11e8_87a7_002590f1d584row3_col5\" class=\"data row3 col5\" >-170.575</td> \n",
       "        <td id=\"T_1066ad7e_89a3_11e8_87a7_002590f1d584row3_col6\" class=\"data row3 col6\" >47.67</td> \n",
       "        <td id=\"T_1066ad7e_89a3_11e8_87a7_002590f1d584row3_col7\" class=\"data row3 col7\" >0.00834785</td> \n",
       "        <td id=\"T_1066ad7e_89a3_11e8_87a7_002590f1d584row3_col8\" class=\"data row3 col8\" >0.00834785</td> \n",
       "        <td id=\"T_1066ad7e_89a3_11e8_87a7_002590f1d584row3_col9\" class=\"data row3 col9\" >0.0123905</td> \n",
       "        <td id=\"T_1066ad7e_89a3_11e8_87a7_002590f1d584row3_col10\" class=\"data row3 col10\" >0.00833737</td> \n",
       "        <td id=\"T_1066ad7e_89a3_11e8_87a7_002590f1d584row3_col11\" class=\"data row3 col11\" >-2.44775e+06</td> \n",
       "        <td id=\"T_1066ad7e_89a3_11e8_87a7_002590f1d584row3_col12\" class=\"data row3 col12\" >684062</td> \n",
       "        <td id=\"T_1066ad7e_89a3_11e8_87a7_002590f1d584row3_col13\" class=\"data row3 col13\" >14349.9</td> \n",
       "        <td id=\"T_1066ad7e_89a3_11e8_87a7_002590f1d584row3_col14\" class=\"data row3 col14\" >14349.9</td> \n",
       "        <td id=\"T_1066ad7e_89a3_11e8_87a7_002590f1d584row3_col15\" class=\"data row3 col15\" >-0.66431</td> \n",
       "        <td id=\"T_1066ad7e_89a3_11e8_87a7_002590f1d584row3_col16\" class=\"data row3 col16\" >-0.11027</td> \n",
       "        <td id=\"T_1066ad7e_89a3_11e8_87a7_002590f1d584row3_col17\" class=\"data row3 col17\" >0.739278</td> \n",
       "        <td id=\"T_1066ad7e_89a3_11e8_87a7_002590f1d584row3_col18\" class=\"data row3 col18\" >False</td> \n",
       "        <td id=\"T_1066ad7e_89a3_11e8_87a7_002590f1d584row3_col19\" class=\"data row3 col19\" >False</td> \n",
       "        <td id=\"T_1066ad7e_89a3_11e8_87a7_002590f1d584row3_col20\" class=\"data row3 col20\" >2</td> \n",
       "        <td id=\"T_1066ad7e_89a3_11e8_87a7_002590f1d584row3_col21\" class=\"data row3 col21\" >7</td> \n",
       "        <td id=\"T_1066ad7e_89a3_11e8_87a7_002590f1d584row3_col22\" class=\"data row3 col22\" >35</td> \n",
       "        <td id=\"T_1066ad7e_89a3_11e8_87a7_002590f1d584row3_col23\" class=\"data row3 col23\" >0</td> \n",
       "    </tr>    <tr> \n",
       "        <th id=\"T_1066ad7e_89a3_11e8_87a7_002590f1d584level0_row4\" class=\"row_heading level0 row4\" >4</th> \n",
       "        <td id=\"T_1066ad7e_89a3_11e8_87a7_002590f1d584row4_col0\" class=\"data row4 col0\" >2131</td> \n",
       "        <td id=\"T_1066ad7e_89a3_11e8_87a7_002590f1d584row4_col1\" class=\"data row4 col1\" >4</td> \n",
       "        <td id=\"T_1066ad7e_89a3_11e8_87a7_002590f1d584row4_col2\" class=\"data row4 col2\" >1855</td> \n",
       "        <td id=\"T_1066ad7e_89a3_11e8_87a7_002590f1d584row4_col3\" class=\"data row4 col3\" >1</td> \n",
       "        <td id=\"T_1066ad7e_89a3_11e8_87a7_002590f1d584row4_col4\" class=\"data row4 col4\" >45</td> \n",
       "        <td id=\"T_1066ad7e_89a3_11e8_87a7_002590f1d584row4_col5\" class=\"data row4 col5\" >-173.502</td> \n",
       "        <td id=\"T_1066ad7e_89a3_11e8_87a7_002590f1d584row4_col6\" class=\"data row4 col6\" >45.8828</td> \n",
       "        <td id=\"T_1066ad7e_89a3_11e8_87a7_002590f1d584row4_col7\" class=\"data row4 col7\" >0.00835224</td> \n",
       "        <td id=\"T_1066ad7e_89a3_11e8_87a7_002590f1d584row4_col8\" class=\"data row4 col8\" >0.00835224</td> \n",
       "        <td id=\"T_1066ad7e_89a3_11e8_87a7_002590f1d584row4_col9\" class=\"data row4 col9\" >0.0119906</td> \n",
       "        <td id=\"T_1066ad7e_89a3_11e8_87a7_002590f1d584row4_col10\" class=\"data row4 col10\" >0.0083386</td> \n",
       "        <td id=\"T_1066ad7e_89a3_11e8_87a7_002590f1d584row4_col11\" class=\"data row4 col11\" >-2.48713e+06</td> \n",
       "        <td id=\"T_1066ad7e_89a3_11e8_87a7_002590f1d584row4_col12\" class=\"data row4 col12\" >657723</td> \n",
       "        <td id=\"T_1066ad7e_89a3_11e8_87a7_002590f1d584row4_col13\" class=\"data row4 col13\" >14334.9</td> \n",
       "        <td id=\"T_1066ad7e_89a3_11e8_87a7_002590f1d584row4_col14\" class=\"data row4 col14\" >14334.9</td> \n",
       "        <td id=\"T_1066ad7e_89a3_11e8_87a7_002590f1d584row4_col15\" class=\"data row4 col15\" >-0.691657</td> \n",
       "        <td id=\"T_1066ad7e_89a3_11e8_87a7_002590f1d584row4_col16\" class=\"data row4 col16\" >-0.0787749</td> \n",
       "        <td id=\"T_1066ad7e_89a3_11e8_87a7_002590f1d584row4_col17\" class=\"data row4 col17\" >0.717917</td> \n",
       "        <td id=\"T_1066ad7e_89a3_11e8_87a7_002590f1d584row4_col18\" class=\"data row4 col18\" >False</td> \n",
       "        <td id=\"T_1066ad7e_89a3_11e8_87a7_002590f1d584row4_col19\" class=\"data row4 col19\" >False</td> \n",
       "        <td id=\"T_1066ad7e_89a3_11e8_87a7_002590f1d584row4_col20\" class=\"data row4 col20\" >2</td> \n",
       "        <td id=\"T_1066ad7e_89a3_11e8_87a7_002590f1d584row4_col21\" class=\"data row4 col21\" >7</td> \n",
       "        <td id=\"T_1066ad7e_89a3_11e8_87a7_002590f1d584row4_col22\" class=\"data row4 col22\" >110</td> \n",
       "        <td id=\"T_1066ad7e_89a3_11e8_87a7_002590f1d584row4_col23\" class=\"data row4 col23\" >0</td> \n",
       "    </tr></tbody> \n",
       "</table> "
      ],
      "text/plain": [
       "<pandas.io.formats.style.Styler at 0x7fd34d9c3890>"
      ]
     },
     "execution_count": 5,
     "metadata": {},
     "output_type": "execute_result"
    }
   ],
   "source": [
    "VarParams.head().style"
   ]
  },
  {
   "cell_type": "code",
   "execution_count": null,
   "metadata": {},
   "outputs": [],
   "source": [
    "print VarParams.keys()"
   ]
  },
  {
   "cell_type": "markdown",
   "metadata": {},
   "source": [
    "#### Set up data for plotting\n",
    "\n",
    "Obtain data to plot the variability paramters against the reduced weighted chi^2. All sources with fewer than 1 datapoints are excluded. Columns are [runcat_id, eta_nu, V_nu, lightcurve_max, lightcurve_median, nu, number of datapoints, new source id]."
   ]
  },
  {
   "cell_type": "code",
   "execution_count": null,
   "metadata": {},
   "outputs": [],
   "source": [
    "plotdata = [[VarParams[i].Runningcatalog.id, VarParams[i].Varmetric.eta_int, VarParams[i].Varmetric.v_int, VarParams[i].Varmetric.lightcurve_max, VarParams[i].Varmetric.lightcurve_median, (VarParams[i].Varmetric.band.freq_central/1e6), VarParams[i].Runningcatalog.datapoints, VarParams[i].Varmetric.newsource] for i in range(len(VarParams))]\n",
    "plotdata = pd.DataFrame(data=plotdata,columns=['runcat','eta','V','maxFlx','avgFlx','freq','dpts','newSrc'])\n",
    "plotdata = plotdata.fillna('N')"
   ]
  },
  {
   "cell_type": "markdown",
   "metadata": {},
   "source": [
    "#### Gaussian fitting to population variability parameters\n",
    "\n",
    "Obtaining the Gaussian fit parameters in log space for the reduced weighted Chi^2 and the variability parameter. The first parameters assume a median clipped distribution (all values 4 sigma away from median are clipped) whereas the other simply fits the data."
   ]
  },
  {
   "cell_type": "code",
   "execution_count": null,
   "metadata": {},
   "outputs": [],
   "source": [
    "plotdata = plotdata.loc[(plotdata['eta'] > 0) & (plotdata['V'] > 0) & (plotdata['dpts']>1) & (plotdata['newSrc']=='N')]\n",
    "paramx, paramx2 = tools.SigmaFit(np.log10(plotdata['eta']))\n",
    "paramy, paramy2 = tools.SigmaFit(np.log10(plotdata['V']))"
   ]
  },
  {
   "cell_type": "code",
   "execution_count": null,
   "metadata": {},
   "outputs": [],
   "source": [
    "if sigma1 == 0:\n",
    "    sigcutx = 0\n",
    "else:\n",
    "    sigcutx = paramx[1]*sigma1+paramx[0]\n",
    "\n",
    "if sigma2 == 0:\n",
    "    sigcuty = 0\n",
    "else:\n",
    "    sigcuty = paramy[1]*sigma2+paramy[0]\n",
    "\n",
    "print('Gaussian Fit eta: '+str(round(10.**paramx[0],2))+'(+'+str(round((10.**(paramx[0]+paramx[1])-10.**paramx[0]),2))+' '+str(round((10.**(paramx[0]-paramx[1])-10.**paramx[0]),2))+')')\n",
    "print('Gaussian Fit V: '+str(round(10.**paramy[0],2))+'(+'+str(round((10.**(paramy[0]+paramy[1])-10.**paramy[0]),2))+' '+str(round((10.**(paramy[0]-paramy[1])-10.**paramy[0]),2))+')')\n",
    "print 'Eta_nu threshold='+str(10.**sigcutx)+', V_nu threshold='+str(10.**sigcuty)"
   ]
  },
  {
   "cell_type": "markdown",
   "metadata": {
    "collapsed": true
   },
   "source": [
    "#### Find the unique frequencies for plotting"
   ]
  },
  {
   "cell_type": "code",
   "execution_count": null,
   "metadata": {},
   "outputs": [],
   "source": [
    "frequencies = plotdata.freq.unique()\n",
    "print frequencies"
   ]
  },
  {
   "cell_type": "markdown",
   "metadata": {},
   "source": [
    "#### Create a colourmap for each of the parameters"
   ]
  },
  {
   "cell_type": "code",
   "execution_count": null,
   "metadata": {},
   "outputs": [],
   "source": [
    "col = pltvp.make_cmap(frequencies)"
   ]
  },
  {
   "cell_type": "markdown",
   "metadata": {},
   "source": [
    "#### Creating eta V plot"
   ]
  },
  {
   "cell_type": "code",
   "execution_count": null,
   "metadata": {},
   "outputs": [],
   "source": [
    "nullfmt   = NullFormatter()         # no labels\n",
    "fontP = FontProperties()\n",
    "fontP.set_size('large')\n",
    "left, width = 0.1, 0.65\n",
    "bottom, height = 0.1, 0.65\n",
    "bottom_h = left_h = left+width+0.02\n",
    "rect_scatter = [left, bottom, width, height]\n",
    "rect_histx = [left, bottom_h, width, 0.2]\n",
    "rect_histy = [left_h, bottom, 0.2, height]\n",
    "fig = plt.figure(1,figsize=(12,12))\n",
    "axScatter = fig.add_subplot(223, position=rect_scatter)\n",
    "plt.xlabel(r'$\\eta_{\\nu}$', fontsize=28)\n",
    "plt.ylabel(r'$V_{\\nu}$', fontsize=28)\n",
    "axHistx=fig.add_subplot(221, position=rect_histx)\n",
    "axHisty=fig.add_subplot(224, position=rect_histy)\n",
    "axHistx.xaxis.set_major_formatter(nullfmt)\n",
    "axHisty.yaxis.set_major_formatter(nullfmt)\n",
    "axHistx.axes.yaxis.set_ticklabels([])\n",
    "axHisty.axes.xaxis.set_ticklabels([])\n",
    "\n",
    "for i in range(len(frequencies)):\n",
    "    plotdataTMP=plotdata.loc[(plotdata['freq']==frequencies[i])]\n",
    "    xdata_var=np.log10(plotdataTMP['eta'])\n",
    "    ydata_var=np.log10(plotdataTMP['V'])\n",
    "    axScatter.scatter(xdata_var, ydata_var,color=col[i], s=10., zorder=5)\n",
    "\n",
    "x = np.log10(plotdata['eta'])\n",
    "y = np.log10(plotdata['V'])\n",
    "\n",
    "axHistx.hist(x, bins=pltvp.make_bins(x), normed=1, histtype='stepfilled', color='b')\n",
    "axHisty.hist(y, bins=pltvp.make_bins(y), normed=1, histtype='stepfilled', orientation='horizontal', color='b')\n",
    "\n",
    "freq_labels=[int(f) for f in frequencies]\n",
    "axScatter.legend(freq_labels,loc=4, prop=fontP)\n",
    "xmin=int(min(x)-1.1)\n",
    "xmax=int(max(x)+1.1)\n",
    "ymin=int(min(y)-1.1)\n",
    "ymax=int(max(y)+1.1)\n",
    "xvals=range(xmin,xmax)\n",
    "xtxts=[r'$10^{'+str(a)+'}$' for a in xvals]\n",
    "yvals=range(ymin,ymax)\n",
    "ytxts=[r'$10^{'+str(a)+'}$' for a in yvals]\n",
    "axScatter.set_xlim([xmin,xmax])\n",
    "axScatter.set_ylim([ymin,ymax])\n",
    "axScatter.set_xticks(xvals)\n",
    "axScatter.set_xticklabels(xtxts, fontsize=20)\n",
    "axScatter.set_yticks(yvals)\n",
    "axScatter.set_yticklabels(ytxts, fontsize=20)\n",
    "axHistx.set_xlim( axScatter.get_xlim())\n",
    "axHisty.set_ylim( axScatter.get_ylim())\n",
    "\n",
    "if sigcutx != 0 or sigcuty != 0:\n",
    "    axHistx.axvline(x=sigcutx, linewidth=2, color='k', linestyle='--')\n",
    "    axHisty.axhline(y=sigcuty, linewidth=2, color='k', linestyle='--')\n",
    "    axScatter.axhline(y=sigcuty, linewidth=2, color='k', linestyle='--')\n",
    "    axScatter.axvline(x=sigcutx, linewidth=2, color='k', linestyle='--')\n",
    "\n",
    "range_x,fitx = pltvp.gaussian_fit(x,paramx)\n",
    "axHistx.plot(range_x,fitx, 'k:', linewidth=2)\n",
    "range_y,fity = pltvp.gaussian_fit(y,paramy)\n",
    "axHisty.plot(fity,range_y, 'k:', linewidth=2)\n"
   ]
  },
  {
   "cell_type": "markdown",
   "metadata": {},
   "source": [
    "Black dashed lines represent the sigma thresholds imposed on the data.\n",
    "Black dotted lines show the histogram fit used to calculate the sigma thresholds"
   ]
  },
  {
   "cell_type": "markdown",
   "metadata": {},
   "source": [
    "#### Create diagnostic plots \n",
    "eta and V versus the average flux and ratio of max flux and average flux"
   ]
  },
  {
   "cell_type": "code",
   "execution_count": null,
   "metadata": {},
   "outputs": [],
   "source": [
    "fig = plt.figure(1,figsize=(12,12))\n",
    "ax1 = fig.add_subplot(221)\n",
    "ax2 = fig.add_subplot(222)\n",
    "ax3 = fig.add_subplot(223)\n",
    "ax4 = fig.add_subplot(224)\n",
    "fontP = FontProperties()\n",
    "fontP.set_size('large')\n",
    "fig.subplots_adjust(hspace = .001, wspace = 0.001)\n",
    "ax1.set_ylabel(r'$\\eta_\\nu$', fontsize=28)\n",
    "ax3.set_ylabel(r'$V_\\nu$', fontsize=28)\n",
    "ax3.set_xlabel('Max Flux (Jy)', fontsize=24)\n",
    "ax4.set_xlabel('Max Flux / Median Flux', fontsize=24)\n",
    "\n",
    "for i in range(len(frequencies)):\n",
    "    plotdataTMP=plotdata.loc[(plotdata['freq']==frequencies[i])]\n",
    "    xdata_ax3=plotdataTMP['maxFlx']\n",
    "    xdata_ax4=plotdataTMP['maxFlx']/plotdataTMP['avgFlx']\n",
    "    ydata_ax1=plotdataTMP['eta']\n",
    "    ydata_ax3=plotdataTMP['V']\n",
    "    ax1.scatter(xdata_ax3, ydata_ax1,color=col[i], s=10., zorder=5)\n",
    "    ax2.scatter(xdata_ax4, ydata_ax1,color=col[i], s=10., zorder=6)\n",
    "    ax3.scatter(xdata_ax3, ydata_ax3,color=col[i], s=10., zorder=7)\n",
    "    ax4.scatter(xdata_ax4, ydata_ax3,color=col[i], s=10., zorder=8)\n",
    "    ax4.legend(freq_labels, loc=4, prop=fontP)\n",
    "\n",
    "Xax3=plotdata['maxFlx']\n",
    "Xax4=plotdata['maxFlx']/plotdataTMP['avgFlx']\n",
    "Yax1=plotdata['eta']\n",
    "Yax3=plotdata['V']\n",
    "    \n",
    "if sigcutx != 0 or sigcuty != 0:\n",
    "    ax1.axhline(y=10.**sigcutx, linewidth=2, color='k', linestyle='--')\n",
    "    ax2.axhline(y=10.**sigcutx, linewidth=2, color='k', linestyle='--')\n",
    "    ax3.axhline(y=10.**sigcuty, linewidth=2, color='k', linestyle='--')\n",
    "    ax4.axhline(y=10.**sigcuty, linewidth=2, color='k', linestyle='--')\n",
    "\n",
    "ax1.set_yscale('log')\n",
    "ax1.set_xscale('log')\n",
    "ax2.set_yscale('log')\n",
    "ax3.set_yscale('log')\n",
    "ax3.set_xscale('log')\n",
    "ax4.set_yscale('log')\n",
    "xmin_ax3=10.**(int(np.log10(min(Xax3))-1.1))\n",
    "xmax_ax3=10.**(int(np.log10(max(Xax3))+1.2))\n",
    "xmin_ax4=0.8\n",
    "xmax_ax4=int(max(xdata_ax4)+0.5)\n",
    "ymin_ax1=10.**(int(np.log10(min(Yax1))-1.1))\n",
    "ymax_ax1=10.**(int(np.log10(max(Yax1))+1.2))\n",
    "ymin_ax3=10.**(int(np.log10(min(Yax3))-1.1))\n",
    "ymax_ax3=10.**(int(np.log10(max(Yax3))+1.2))\n",
    "ax1.set_ylim(ymin_ax1,ymax_ax1)\n",
    "ax3.set_ylim(ymin_ax3,ymax_ax3)\n",
    "ax3.set_xlim(xmin_ax3,xmax_ax3)\n",
    "ax4.set_xlim(xmin_ax4,xmax_ax4)\n",
    "ax1.set_xlim( ax3.get_xlim() )\n",
    "ax4.set_ylim( ax3.get_ylim() )\n",
    "ax2.set_xlim( ax4.get_xlim() )\n",
    "ax2.set_ylim( ax1.get_ylim() )\n",
    "ax1.xaxis.set_major_formatter(nullfmt)\n",
    "ax4.yaxis.set_major_formatter(nullfmt)\n",
    "ax2.xaxis.set_major_formatter(nullfmt)\n",
    "ax2.yaxis.set_major_formatter(nullfmt)"
   ]
  },
  {
   "cell_type": "markdown",
   "metadata": {},
   "source": [
    "#### Print out the URL to the Banana webpage for each candidate"
   ]
  },
  {
   "cell_type": "code",
   "execution_count": null,
   "metadata": {},
   "outputs": [],
   "source": [
    "#tmp=[x[0] for x in plotdata if x[1]>10.**sigcutx and x[2]>10.**sigcuty and x[7]==None and x[6]>1]\n",
    "tmp=plotdata.loc[(plotdata['eta']>=10.**sigcutx) & (plotdata['V']>=10.**sigcuty)]\n",
    "IdTrans=tmp.runcat.unique()\n",
    "if len(tmp)>0:\n",
    "    for a in IdTrans:\n",
    "        print websiteURL+str(a)\n",
    "else:\n",
    "    print \"No Variables\"\n"
   ]
  }
 ],
 "metadata": {
  "kernelspec": {
   "display_name": "Python 2",
   "language": "python",
   "name": "python2"
  },
  "language_info": {
   "codemirror_mode": {
    "name": "ipython",
    "version": 2
   },
   "file_extension": ".py",
   "mimetype": "text/x-python",
   "name": "python",
   "nbconvert_exporter": "python",
   "pygments_lexer": "ipython2",
   "version": "2.7.6"
  }
 },
 "nbformat": 4,
 "nbformat_minor": 1
}
